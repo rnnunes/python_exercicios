{
 "cells": [
  {
   "cell_type": "code",
   "execution_count": null,
   "metadata": {},
   "outputs": [],
   "source": [
    "class Dog:\n",
    "    def __init__(self, raça):               ###\n",
    "        self.raça = raça                    ##### ATRIBUTOS \n",
    "        self.idade = 10                     ##### PYTHON USA FUNÇOES\n",
    "        print('{} Criado'.format(raça))     ###\n",
    "\n",
    "                                            #================================\n",
    "                                            \n",
    "    def envelhecer(self):                   #### MÉTODO\n",
    "        self.idade += 1                     #### PYTHON USA FUNÇOES"
   ]
  },
  {
   "cell_type": "code",
   "execution_count": null,
   "metadata": {},
   "outputs": [],
   "source": [
    "dog = Dog('Vira lata')\n",
    "dog2 = Dog('Pastor Alemão')\n",
    "dog3 = Dog('Pincher')"
   ]
  },
  {
   "cell_type": "code",
   "execution_count": null,
   "metadata": {},
   "outputs": [],
   "source": [
    "dog2.envelhecer()"
   ]
  },
  {
   "cell_type": "code",
   "execution_count": null,
   "metadata": {},
   "outputs": [],
   "source": [
    "print(dog.idade)\n",
    "print(dog.raça)\n",
    "print('')\n",
    "print(dog2.idade)\n",
    "print(dog2.raça)\n",
    "print('')\n",
    "print(dog3.idade)\n",
    "print(dog3.raça)"
   ]
  }
 ],
 "metadata": {
  "kernelspec": {
   "display_name": "Python 3",
   "language": "python",
   "name": "python3"
  },
  "language_info": {
   "codemirror_mode": {
    "name": "ipython",
    "version": 3
   },
   "file_extension": ".py",
   "mimetype": "text/x-python",
   "name": "python",
   "nbconvert_exporter": "python",
   "pygments_lexer": "ipython3",
   "version": "3.10.9 (tags/v3.10.9:1dd9be6, Dec  6 2022, 20:01:21) [MSC v.1934 64 bit (AMD64)]"
  },
  "orig_nbformat": 4,
  "vscode": {
   "interpreter": {
    "hash": "3b7e9cb8e453d6cda0fe8c8dd13f891a1f09162f0e7c66ffeae7751a7aecf00d"
   }
  }
 },
 "nbformat": 4,
 "nbformat_minor": 2
}
