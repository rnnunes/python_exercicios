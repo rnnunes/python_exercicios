{
 "cells": [
  {
   "cell_type": "code",
   "execution_count": null,
   "metadata": {},
   "outputs": [],
   "source": [
    "class Animal:\n",
    "    def __init__(self):\n",
    "        print('Animal Criado')\n",
    "\n",
    "    def quem_sou_eu(self):\n",
    "        print('Eu sou um Animal.')\n",
    "\n",
    "    def comer(self):\n",
    "        print('Comendo.')\n",
    "\n",
    "class Cachorro(Animal):                 #<--- Herança Classe Cachorro recebeu Classe Animal(Pai)\n",
    "    def __init__(self):                 #\n",
    "        Animal.__init__(self)           #\n",
    "        print('Eu sou um Cahorro')      #\n",
    "    def quem_sou_eu(self):              #\n",
    "        print('Eu sou um Cachorro')     #"
   ]
  },
  {
   "cell_type": "code",
   "execution_count": null,
   "metadata": {},
   "outputs": [],
   "source": [
    "animal = Animal()"
   ]
  },
  {
   "cell_type": "code",
   "execution_count": null,
   "metadata": {},
   "outputs": [],
   "source": [
    "dog = Cachorro()"
   ]
  },
  {
   "cell_type": "code",
   "execution_count": null,
   "metadata": {},
   "outputs": [],
   "source": [
    "dog.quem_sou_eu()"
   ]
  }
 ],
 "metadata": {
  "kernelspec": {
   "display_name": "Python 3",
   "language": "python",
   "name": "python3"
  },
  "language_info": {
   "codemirror_mode": {
    "name": "ipython",
    "version": 3
   },
   "file_extension": ".py",
   "mimetype": "text/x-python",
   "name": "python",
   "nbconvert_exporter": "python",
   "pygments_lexer": "ipython3",
   "version": "3.10.9"
  },
  "orig_nbformat": 4,
  "vscode": {
   "interpreter": {
    "hash": "3b7e9cb8e453d6cda0fe8c8dd13f891a1f09162f0e7c66ffeae7751a7aecf00d"
   }
  }
 },
 "nbformat": 4,
 "nbformat_minor": 2
}
